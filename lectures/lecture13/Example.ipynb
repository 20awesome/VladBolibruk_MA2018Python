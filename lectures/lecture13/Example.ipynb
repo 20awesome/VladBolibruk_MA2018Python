{
 "cells": [
  {
   "cell_type": "code",
   "execution_count": 1,
   "metadata": {},
   "outputs": [
    {
     "name": "stdout",
     "output_type": "stream",
     "text": [
      "Hello World!\n"
     ]
    }
   ],
   "source": [
    "print('Hello World!')"
   ]
  },
  {
   "cell_type": "code",
   "execution_count": 2,
   "metadata": {
    "scrolled": true
   },
   "outputs": [
    {
     "data": {
      "text/plain": [
       "'Hello, Jack!'"
      ]
     },
     "execution_count": 2,
     "metadata": {},
     "output_type": "execute_result"
    }
   ],
   "source": [
    "def say_hello(recipient):\n",
    "    return 'Hello, {}!'.format(recipient)\n",
    "\n",
    "say_hello('Jack')"
   ]
  },
  {
   "cell_type": "markdown",
   "metadata": {},
   "source": [
    "# This is a level 1 heading\n",
    "## This is a level 2 heading\n",
    "This is some plain text that forms a paragraph.\n",
    "Add emphasis via **bold** and __bold__, or *italic* and _italic_.\n",
    "\n",
    "Paragraphs must be separated by an empty line.\n",
    "\n",
    "* Sometimes we want to include lists.\n",
    " * Which can be indented.\n",
    "\n",
    "1. Lists can also be numbered.\n",
    "2. For ordered lists.\n",
    "\n",
    "[It is possible to include hyperlinks](https://www.example.com)\n",
    "\n",
    "Inline code uses single backticks: `foo()`, and code blocks use triple backticks:\n",
    "\n",
    "```\n",
    "bar()\n",
    "```\n",
    "\n",
    "Or can be intented by 4 spaces:\n",
    "\n",
    "    foo()\n",
    "\n",
    "And finally, adding images is easy: ![Alt text](https://www.example.com/image.jpg)"
   ]
  },
  {
   "cell_type": "code",
   "execution_count": 3,
   "metadata": {},
   "outputs": [],
   "source": [
    "import numpy as np\n",
    "\n",
    "def square(x):\n",
    "  return x * x"
   ]
  },
  {
   "cell_type": "code",
   "execution_count": 4,
   "metadata": {},
   "outputs": [
    {
     "name": "stdout",
     "output_type": "stream",
     "text": [
      "4 squared is 16\n"
     ]
    }
   ],
   "source": [
    "x = np.random.randint(1, 10)\n",
    "y = square(x)\n",
    "\n",
    "print('%d squared is %d' % (x, y))"
   ]
  },
  {
   "cell_type": "code",
   "execution_count": 5,
   "metadata": {},
   "outputs": [],
   "source": [
    "y = 10"
   ]
  },
  {
   "cell_type": "code",
   "execution_count": 6,
   "metadata": {},
   "outputs": [
    {
     "name": "stdout",
     "output_type": "stream",
     "text": [
      "1 squared is 1\n"
     ]
    }
   ],
   "source": [
    "x = np.random.randint(1, 10)\n",
    "y = square(x)\n",
    "\n",
    "print('%d squared is %d' % (x, y))"
   ]
  },
  {
   "cell_type": "code",
   "execution_count": 7,
   "metadata": {},
   "outputs": [],
   "source": [
    "%matplotlib inline\n",
    "\n",
    "import pandas as pd\n",
    "import matplotlib.pyplot as plt\n",
    "import seaborn as sns\n",
    "\n",
    "sns.set(style=\"darkgrid\")"
   ]
  },
  {
   "cell_type": "code",
   "execution_count": 8,
   "metadata": {},
   "outputs": [],
   "source": [
    "df = pd.read_csv('data/airquality.csv',sep=',')"
   ]
  },
  {
   "cell_type": "code",
   "execution_count": 9,
   "metadata": {},
   "outputs": [
    {
     "data": {
      "text/html": [
       "<div>\n",
       "<style scoped>\n",
       "    .dataframe tbody tr th:only-of-type {\n",
       "        vertical-align: middle;\n",
       "    }\n",
       "\n",
       "    .dataframe tbody tr th {\n",
       "        vertical-align: top;\n",
       "    }\n",
       "\n",
       "    .dataframe thead th {\n",
       "        text-align: right;\n",
       "    }\n",
       "</style>\n",
       "<table border=\"1\" class=\"dataframe\">\n",
       "  <thead>\n",
       "    <tr style=\"text-align: right;\">\n",
       "      <th></th>\n",
       "      <th>date</th>\n",
       "      <th>time</th>\n",
       "      <th>carbon</th>\n",
       "      <th>PT08.S1(CO)</th>\n",
       "      <th>NMHC(GT)</th>\n",
       "      <th>C6H6(GT)</th>\n",
       "      <th>PT08.S2(NMHC)</th>\n",
       "      <th>NOx(GT)</th>\n",
       "      <th>PT08.S3(NOx)</th>\n",
       "      <th>NO2(GT)</th>\n",
       "      <th>PT08.S4(NO2)</th>\n",
       "      <th>PT08.S5(O3)</th>\n",
       "      <th>T</th>\n",
       "      <th>RH</th>\n",
       "      <th>AH</th>\n",
       "      <th>Unnamed: 15</th>\n",
       "      <th>Unnamed: 16</th>\n",
       "      <th>Unnamed: 17</th>\n",
       "      <th>Unnamed: 18</th>\n",
       "      <th>Unnamed: 19</th>\n",
       "    </tr>\n",
       "  </thead>\n",
       "  <tbody>\n",
       "    <tr>\n",
       "      <th>0</th>\n",
       "      <td>10/03/2004</td>\n",
       "      <td>18.00.00</td>\n",
       "      <td>2</td>\n",
       "      <td>6</td>\n",
       "      <td>1360</td>\n",
       "      <td>150</td>\n",
       "      <td>11</td>\n",
       "      <td>9</td>\n",
       "      <td>1046</td>\n",
       "      <td>166</td>\n",
       "      <td>1056</td>\n",
       "      <td>113</td>\n",
       "      <td>1692</td>\n",
       "      <td>1268</td>\n",
       "      <td>13</td>\n",
       "      <td>6</td>\n",
       "      <td>48.0</td>\n",
       "      <td>9.0</td>\n",
       "      <td>0.0</td>\n",
       "      <td>7578.0</td>\n",
       "    </tr>\n",
       "    <tr>\n",
       "      <th>1</th>\n",
       "      <td>10/03/2004</td>\n",
       "      <td>19.00.00</td>\n",
       "      <td>2</td>\n",
       "      <td>1292</td>\n",
       "      <td>112</td>\n",
       "      <td>9</td>\n",
       "      <td>4</td>\n",
       "      <td>955</td>\n",
       "      <td>103</td>\n",
       "      <td>1174</td>\n",
       "      <td>92</td>\n",
       "      <td>1559</td>\n",
       "      <td>972</td>\n",
       "      <td>13</td>\n",
       "      <td>3</td>\n",
       "      <td>47</td>\n",
       "      <td>7.0</td>\n",
       "      <td>0.0</td>\n",
       "      <td>7255.0</td>\n",
       "      <td>NaN</td>\n",
       "    </tr>\n",
       "    <tr>\n",
       "      <th>2</th>\n",
       "      <td>10/03/2004</td>\n",
       "      <td>20.00.00</td>\n",
       "      <td>2</td>\n",
       "      <td>2</td>\n",
       "      <td>1402</td>\n",
       "      <td>88</td>\n",
       "      <td>9</td>\n",
       "      <td>0</td>\n",
       "      <td>939</td>\n",
       "      <td>131</td>\n",
       "      <td>1140</td>\n",
       "      <td>114</td>\n",
       "      <td>1555</td>\n",
       "      <td>1074</td>\n",
       "      <td>11</td>\n",
       "      <td>9</td>\n",
       "      <td>54.0</td>\n",
       "      <td>0.0</td>\n",
       "      <td>0.0</td>\n",
       "      <td>7502.0</td>\n",
       "    </tr>\n",
       "    <tr>\n",
       "      <th>3</th>\n",
       "      <td>10/03/2004</td>\n",
       "      <td>21.00.00</td>\n",
       "      <td>2</td>\n",
       "      <td>2</td>\n",
       "      <td>1376</td>\n",
       "      <td>80</td>\n",
       "      <td>9</td>\n",
       "      <td>2</td>\n",
       "      <td>948</td>\n",
       "      <td>172</td>\n",
       "      <td>1092</td>\n",
       "      <td>122</td>\n",
       "      <td>1584</td>\n",
       "      <td>1203</td>\n",
       "      <td>11</td>\n",
       "      <td>0</td>\n",
       "      <td>60.0</td>\n",
       "      <td>0.0</td>\n",
       "      <td>0.0</td>\n",
       "      <td>7867.0</td>\n",
       "    </tr>\n",
       "    <tr>\n",
       "      <th>4</th>\n",
       "      <td>10/03/2004</td>\n",
       "      <td>22.00.00</td>\n",
       "      <td>1</td>\n",
       "      <td>6</td>\n",
       "      <td>1272</td>\n",
       "      <td>51</td>\n",
       "      <td>6</td>\n",
       "      <td>5</td>\n",
       "      <td>836</td>\n",
       "      <td>131</td>\n",
       "      <td>1205</td>\n",
       "      <td>116</td>\n",
       "      <td>1490</td>\n",
       "      <td>1110</td>\n",
       "      <td>11</td>\n",
       "      <td>2</td>\n",
       "      <td>59.0</td>\n",
       "      <td>6.0</td>\n",
       "      <td>0.0</td>\n",
       "      <td>7888.0</td>\n",
       "    </tr>\n",
       "  </tbody>\n",
       "</table>\n",
       "</div>"
      ],
      "text/plain": [
       "         date      time  carbon  PT08.S1(CO)  NMHC(GT)  C6H6(GT)  \\\n",
       "0  10/03/2004  18.00.00       2            6      1360       150   \n",
       "1  10/03/2004  19.00.00       2         1292       112         9   \n",
       "2  10/03/2004  20.00.00       2            2      1402        88   \n",
       "3  10/03/2004  21.00.00       2            2      1376        80   \n",
       "4  10/03/2004  22.00.00       1            6      1272        51   \n",
       "\n",
       "   PT08.S2(NMHC)  NOx(GT)  PT08.S3(NOx)  NO2(GT)  PT08.S4(NO2)  PT08.S5(O3)  \\\n",
       "0             11        9          1046      166          1056          113   \n",
       "1              4      955           103     1174            92         1559   \n",
       "2              9        0           939      131          1140          114   \n",
       "3              9        2           948      172          1092          122   \n",
       "4              6        5           836      131          1205          116   \n",
       "\n",
       "      T    RH  AH  Unnamed: 15  Unnamed: 16  Unnamed: 17  Unnamed: 18  \\\n",
       "0  1692  1268  13            6         48.0          9.0          0.0   \n",
       "1   972    13   3           47          7.0          0.0       7255.0   \n",
       "2  1555  1074  11            9         54.0          0.0          0.0   \n",
       "3  1584  1203  11            0         60.0          0.0          0.0   \n",
       "4  1490  1110  11            2         59.0          6.0          0.0   \n",
       "\n",
       "   Unnamed: 19  \n",
       "0       7578.0  \n",
       "1          NaN  \n",
       "2       7502.0  \n",
       "3       7867.0  \n",
       "4       7888.0  "
      ]
     },
     "execution_count": 9,
     "metadata": {},
     "output_type": "execute_result"
    }
   ],
   "source": [
    "df.head()"
   ]
  },
  {
   "cell_type": "code",
   "execution_count": 10,
   "metadata": {},
   "outputs": [
    {
     "data": {
      "text/html": [
       "<div>\n",
       "<style scoped>\n",
       "    .dataframe tbody tr th:only-of-type {\n",
       "        vertical-align: middle;\n",
       "    }\n",
       "\n",
       "    .dataframe tbody tr th {\n",
       "        vertical-align: top;\n",
       "    }\n",
       "\n",
       "    .dataframe thead th {\n",
       "        text-align: right;\n",
       "    }\n",
       "</style>\n",
       "<table border=\"1\" class=\"dataframe\">\n",
       "  <thead>\n",
       "    <tr style=\"text-align: right;\">\n",
       "      <th></th>\n",
       "      <th>date</th>\n",
       "      <th>time</th>\n",
       "      <th>carbon</th>\n",
       "      <th>PT08.S1(CO)</th>\n",
       "      <th>NMHC(GT)</th>\n",
       "      <th>C6H6(GT)</th>\n",
       "      <th>PT08.S2(NMHC)</th>\n",
       "      <th>NOx(GT)</th>\n",
       "      <th>PT08.S3(NOx)</th>\n",
       "      <th>NO2(GT)</th>\n",
       "      <th>PT08.S4(NO2)</th>\n",
       "      <th>PT08.S5(O3)</th>\n",
       "      <th>T</th>\n",
       "      <th>RH</th>\n",
       "      <th>AH</th>\n",
       "      <th>Unnamed: 15</th>\n",
       "      <th>Unnamed: 16</th>\n",
       "      <th>Unnamed: 17</th>\n",
       "      <th>Unnamed: 18</th>\n",
       "      <th>Unnamed: 19</th>\n",
       "    </tr>\n",
       "  </thead>\n",
       "  <tbody>\n",
       "    <tr>\n",
       "      <th>9352</th>\n",
       "      <td>04/04/2005</td>\n",
       "      <td>10.00.00</td>\n",
       "      <td>3</td>\n",
       "      <td>1</td>\n",
       "      <td>1314</td>\n",
       "      <td>-200</td>\n",
       "      <td>13</td>\n",
       "      <td>5</td>\n",
       "      <td>1101</td>\n",
       "      <td>472</td>\n",
       "      <td>539</td>\n",
       "      <td>190</td>\n",
       "      <td>1374</td>\n",
       "      <td>1729</td>\n",
       "      <td>21</td>\n",
       "      <td>9</td>\n",
       "      <td>29.0</td>\n",
       "      <td>3.0</td>\n",
       "      <td>0.0</td>\n",
       "      <td>7568.0</td>\n",
       "    </tr>\n",
       "    <tr>\n",
       "      <th>9353</th>\n",
       "      <td>04/04/2005</td>\n",
       "      <td>11.00.00</td>\n",
       "      <td>2</td>\n",
       "      <td>4</td>\n",
       "      <td>1163</td>\n",
       "      <td>-200</td>\n",
       "      <td>11</td>\n",
       "      <td>4</td>\n",
       "      <td>1027</td>\n",
       "      <td>353</td>\n",
       "      <td>604</td>\n",
       "      <td>179</td>\n",
       "      <td>1264</td>\n",
       "      <td>1269</td>\n",
       "      <td>24</td>\n",
       "      <td>3</td>\n",
       "      <td>23.0</td>\n",
       "      <td>7.0</td>\n",
       "      <td>0.0</td>\n",
       "      <td>7119.0</td>\n",
       "    </tr>\n",
       "    <tr>\n",
       "      <th>9354</th>\n",
       "      <td>04/04/2005</td>\n",
       "      <td>12.00.00</td>\n",
       "      <td>2</td>\n",
       "      <td>4</td>\n",
       "      <td>1142</td>\n",
       "      <td>-200</td>\n",
       "      <td>12</td>\n",
       "      <td>4</td>\n",
       "      <td>1063</td>\n",
       "      <td>293</td>\n",
       "      <td>603</td>\n",
       "      <td>175</td>\n",
       "      <td>1241</td>\n",
       "      <td>1092</td>\n",
       "      <td>26</td>\n",
       "      <td>9</td>\n",
       "      <td>18.0</td>\n",
       "      <td>3.0</td>\n",
       "      <td>0.0</td>\n",
       "      <td>6406.0</td>\n",
       "    </tr>\n",
       "    <tr>\n",
       "      <th>9355</th>\n",
       "      <td>04/04/2005</td>\n",
       "      <td>13.00.00</td>\n",
       "      <td>2</td>\n",
       "      <td>1</td>\n",
       "      <td>1003</td>\n",
       "      <td>-200</td>\n",
       "      <td>9</td>\n",
       "      <td>5</td>\n",
       "      <td>961</td>\n",
       "      <td>235</td>\n",
       "      <td>702</td>\n",
       "      <td>156</td>\n",
       "      <td>1041</td>\n",
       "      <td>770</td>\n",
       "      <td>28</td>\n",
       "      <td>3</td>\n",
       "      <td>13.0</td>\n",
       "      <td>5.0</td>\n",
       "      <td>0.0</td>\n",
       "      <td>5139.0</td>\n",
       "    </tr>\n",
       "    <tr>\n",
       "      <th>9356</th>\n",
       "      <td>04/04/2005</td>\n",
       "      <td>14.00.00</td>\n",
       "      <td>2</td>\n",
       "      <td>2</td>\n",
       "      <td>1071</td>\n",
       "      <td>-200</td>\n",
       "      <td>11</td>\n",
       "      <td>9</td>\n",
       "      <td>1047</td>\n",
       "      <td>265</td>\n",
       "      <td>654</td>\n",
       "      <td>168</td>\n",
       "      <td>1129</td>\n",
       "      <td>816</td>\n",
       "      <td>28</td>\n",
       "      <td>5</td>\n",
       "      <td>13.0</td>\n",
       "      <td>1.0</td>\n",
       "      <td>0.0</td>\n",
       "      <td>5028.0</td>\n",
       "    </tr>\n",
       "  </tbody>\n",
       "</table>\n",
       "</div>"
      ],
      "text/plain": [
       "            date      time  carbon  PT08.S1(CO)  NMHC(GT)  C6H6(GT)  \\\n",
       "9352  04/04/2005  10.00.00       3            1      1314      -200   \n",
       "9353  04/04/2005  11.00.00       2            4      1163      -200   \n",
       "9354  04/04/2005  12.00.00       2            4      1142      -200   \n",
       "9355  04/04/2005  13.00.00       2            1      1003      -200   \n",
       "9356  04/04/2005  14.00.00       2            2      1071      -200   \n",
       "\n",
       "      PT08.S2(NMHC)  NOx(GT)  PT08.S3(NOx)  NO2(GT)  PT08.S4(NO2)  \\\n",
       "9352             13        5          1101      472           539   \n",
       "9353             11        4          1027      353           604   \n",
       "9354             12        4          1063      293           603   \n",
       "9355              9        5           961      235           702   \n",
       "9356             11        9          1047      265           654   \n",
       "\n",
       "      PT08.S5(O3)     T    RH  AH  Unnamed: 15  Unnamed: 16  Unnamed: 17  \\\n",
       "9352          190  1374  1729  21            9         29.0          3.0   \n",
       "9353          179  1264  1269  24            3         23.0          7.0   \n",
       "9354          175  1241  1092  26            9         18.0          3.0   \n",
       "9355          156  1041   770  28            3         13.0          5.0   \n",
       "9356          168  1129   816  28            5         13.0          1.0   \n",
       "\n",
       "      Unnamed: 18  Unnamed: 19  \n",
       "9352          0.0       7568.0  \n",
       "9353          0.0       7119.0  \n",
       "9354          0.0       6406.0  \n",
       "9355          0.0       5139.0  \n",
       "9356          0.0       5028.0  "
      ]
     },
     "execution_count": 10,
     "metadata": {},
     "output_type": "execute_result"
    }
   ],
   "source": [
    "df.tail()"
   ]
  },
  {
   "cell_type": "code",
   "execution_count": 11,
   "metadata": {},
   "outputs": [
    {
     "data": {
      "text/plain": [
       "9357"
      ]
     },
     "execution_count": 11,
     "metadata": {},
     "output_type": "execute_result"
    }
   ],
   "source": [
    "len(df)"
   ]
  },
  {
   "cell_type": "code",
   "execution_count": 12,
   "metadata": {},
   "outputs": [
    {
     "data": {
      "text/plain": [
       "date              object\n",
       "time              object\n",
       "carbon             int64\n",
       "PT08.S1(CO)        int64\n",
       "NMHC(GT)           int64\n",
       "C6H6(GT)           int64\n",
       "PT08.S2(NMHC)      int64\n",
       "NOx(GT)            int64\n",
       "PT08.S3(NOx)       int64\n",
       "NO2(GT)            int64\n",
       "PT08.S4(NO2)       int64\n",
       "PT08.S5(O3)        int64\n",
       "T                  int64\n",
       "RH                 int64\n",
       "AH                 int64\n",
       "Unnamed: 15        int64\n",
       "Unnamed: 16      float64\n",
       "Unnamed: 17      float64\n",
       "Unnamed: 18      float64\n",
       "Unnamed: 19      float64\n",
       "dtype: object"
      ]
     },
     "execution_count": 12,
     "metadata": {},
     "output_type": "execute_result"
    }
   ],
   "source": [
    "df.dtypes"
   ]
  },
  {
   "cell_type": "code",
   "execution_count": 13,
   "metadata": {},
   "outputs": [],
   "source": [
    "group = df.loc[:, ['date','time','carbon']].groupby('date')\n",
    "avgs = group.mean()\n",
    "x = avgs.index\n",
    "y1 = avgs.carbon\n",
    "\n",
    "def plot(x, y, ax, title, y_label):\n",
    "    ax.set_title(title)\n",
    "    ax.set_ylabel(y_label)\n",
    "    ax.plot(x, y)\n",
    "    ax.margins(x=0, y=0)"
   ]
  },
  {
   "cell_type": "code",
   "execution_count": 14,
   "metadata": {},
   "outputs": [
    {
     "data": {
      "image/png": "[encoded data removed]",
      "text/plain": [
       "<Figure size 432x288 with 1 Axes>"
      ]
     },
     "metadata": {
      "needs_background": "light"
     },
     "output_type": "display_data"
    }
   ],
   "source": [
    "fig, ax = plt.subplots()\n",
    "plot(x, y1, ax, 'Mean of the Carbon gas', 'Some text')"
   ]
  }
 ],
 "metadata": {
  "kernelspec": {
   "display_name": "Python 3",
   "language": "python",
   "name": "python3"
  },
  "language_info": {
   "codemirror_mode": {
    "name": "ipython",
    "version": 3
   },
   "file_extension": ".py",
   "mimetype": "text/x-python",
   "name": "python",
   "nbconvert_exporter": "python",
   "pygments_lexer": "ipython3",
   "version": "3.6.6"
  }
 },
 "nbformat": 4,
 "nbformat_minor": 2
}
